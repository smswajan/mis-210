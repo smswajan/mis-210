{
 "cells": [
  {
   "cell_type": "markdown",
   "metadata": {},
   "source": [
    "## 2 - A"
   ]
  },
  {
   "cell_type": "code",
   "execution_count": 2,
   "metadata": {},
   "outputs": [
    {
     "name": "stdout",
     "output_type": "stream",
     "text": [
      "Student's ID: 072\n",
      "Student's tutorial mark: 88\n",
      "Student's test mark: 88\n",
      "Student's exam-mark: 88\n",
      "Student's ID:  072 and Grade: A\n"
     ]
    }
   ],
   "source": [
    "id = input(\"Student's ID: \")\n",
    "tutorialMark = eval(input(\"Student's tutorial mark: \"))\n",
    "testMark = eval(input(\"Student's test mark: \"))\n",
    "\n",
    "if (tutorialMark+testMark)/2 < 40:\n",
    "    print(\"Student's ID: \", id, \"and Grade: F\")\n",
    "else:\n",
    "    examMark = eval(input(\"Student's exam-mark: \"))\n",
    "    tutorialMark = tutorialMark * .25\n",
    "    testMark = testMark * .25\n",
    "    examMark = examMark * .5\n",
    "    finalMarks = examMark + tutorialMark + testMark\n",
    "    \n",
    "    if finalMarks in range(80, 101):\n",
    "        print(\"Student's ID: \", id, \"and Grade: A\")\n",
    "    elif finalMarks in range(70, 80):\n",
    "        print(\"Student's ID: \", id, \"and Grade: B\")\n",
    "    elif finalMarks in range(60, 70):\n",
    "        print(\"Student's ID: \", id, \"and Grade: C\")\n",
    "    elif finalMarks in range(50, 60):\n",
    "        print(\"Student's ID: \", id, \"and Grade: D\")\n",
    "    elif finalMarks < 50:\n",
    "        print(\"Student's ID: \", id, \"and Grade: E\")"
   ]
  },
  {
   "cell_type": "markdown",
   "metadata": {},
   "source": [
    "## 2. B."
   ]
  },
  {
   "cell_type": "code",
   "execution_count": 2,
   "metadata": {},
   "outputs": [
    {
     "name": "stdout",
     "output_type": "stream",
     "text": [
      "Input lengths of the triangle sides: \n",
      "x: 2\n",
      "y: 5\n",
      "z: 2\n",
      "Isosceles triangle\n"
     ]
    }
   ],
   "source": [
    "print(\"Input lengths of the triangle sides: \")\n",
    "x = eval(input(\"x: \"))\n",
    "y = eval(input(\"y: \"))\n",
    "z = eval(input(\"z: \"))\n",
    "if x==y==z:\n",
    "    print(\"Equilateral triangle\")\n",
    "elif x!=y and y!=z and x!=z:\n",
    "    print(\"Scalene triangle\")\n",
    "else:\n",
    "    print(\"Isosceles triangle\")"
   ]
  },
  {
   "cell_type": "markdown",
   "metadata": {},
   "source": [
    "## 2. C"
   ]
  },
  {
   "cell_type": "code",
   "execution_count": null,
   "metadata": {},
   "outputs": [],
   "source": [
    "for i in range(1500, 2701):\n",
    "    if i%7==0 and i%5==0:\n",
    "        print(i)"
   ]
  },
  {
   "cell_type": "markdown",
   "metadata": {},
   "source": [
    "## 3. A"
   ]
  },
  {
   "cell_type": "code",
   "execution_count": null,
   "metadata": {},
   "outputs": [],
   "source": [
    "# Didn't take time, Just Copied from Zobaer Ul Islam (https://bit.ly/2QoM2JL)\n",
    "#Category List\n",
    "print(\"1: Publicly Traded Company\")\n",
    "print(\"2: Non-Publicly Traded Company\")\n",
    "print(\"3: Publicly Traded Cigarette Company\")\n",
    "print(\"4: Mobile Phone Operator Company\")\n",
    "print(\"5: Publicly Traded Mobile Phone Company\")\n",
    "\n",
    "#Inputs\n",
    "taxpayerCategory = eval(input(\"Enter Your Category Number: \"))\n",
    "\n",
    "#Calculating Tax Amount#\n",
    "\n",
    "# 1. Publicly Traded Company\n",
    "if taxpayerCategory == 1:\n",
    "    dividendRate = eval(input(\"Did The Publicly Traded Company Declare Dividend? If Yes Then Enter the Rate in %: \"))\n",
    "    profitAmount = eval(input(\"Enter The Profit Amount: \"))\n",
    "    if dividendRate == 0:\n",
    "        if profitAmount>1000000:\n",
    "            netTax = profitAmount*.275\n",
    "        elif profitAmount < 1000000:\n",
    "            netTax = profitAmount*.255\n",
    "    elif dividendRate > 30:\n",
    "        if profitAmount>1000000:\n",
    "            netTax = profitAmount*.2475\n",
    "        elif profitAmount < 1000000:\n",
    "            netTax = profitAmount*.2075\n",
    "    elif dividendRate < 10:\n",
    "        if profitAmount>1000000:\n",
    "            netTax = profitAmount*.35\n",
    "        elif profitAmount < 1000000:\n",
    "            netTax = profitAmount*.30\n",
    "\n",
    "# 2. Non Publicly Traded Company\n",
    "if taxpayerCategory == 2:\n",
    "    paidupCapitalThroughIPO = eval(input(\"How Much Share of your Paid Up Capital was Transfered through IPO? Enter the rate in %: \"))\n",
    "    profitAmount = eval(input(\"Enter The Profit Amount: \"))\n",
    "    if paidupCapitalThroughIPO >= 20:\n",
    "        if profitAmount>1000000:\n",
    "            taxBeforeRebate = profitAmount*.35\n",
    "            netTax = taxBeforeRebate  - taxBeforeRebate*.10\n",
    "        elif profitAmount < 1000000:\n",
    "            taxBeforeRebate = profitAmount*.32\n",
    "            netTax = taxBeforeRebate  - taxBeforeRebate*.10\n",
    "    else:\n",
    "        if profitAmount>1000000:\n",
    "            netTax = profitAmount*.35\n",
    "        elif profitAmount < 1000000:\n",
    "            netTax = profitAmount*.32\n",
    "\n",
    "# 3. Publicly Traded Cigarette Company\n",
    "if taxpayerCategory == 3:\n",
    "    dividendRate = eval(input(\"Did The Publicly Traded Cigarette Company Declare Dividend? If Yes Then Enter the Rate in %: \"))\n",
    "    profitAmount = eval(input(\"Enter The Profit Amount: \"))\n",
    "    if dividendRate == 0:\n",
    "        if profitAmount>1000000:\n",
    "            netTax = profitAmount*.40\n",
    "        elif profitAmount < 1000000:\n",
    "            netTax = profitAmount*.35\n",
    "    elif dividendRate > 30:\n",
    "        if profitAmount>1000000:\n",
    "            netTax = profitAmount*.2475\n",
    "        elif profitAmount < 1000000:\n",
    "            netTax = profitAmount*.2075\n",
    "    elif dividendRate < 10:\n",
    "        if profitAmount>1000000:\n",
    "            netTax = profitAmount*.35\n",
    "        elif profitAmount < 1000000:\n",
    "            netTax = profitAmount*.30\n",
    "            \n",
    "# 4. Mobile Phone Operator Company\n",
    "if taxpayerCategory == 4:\n",
    "    profitAmount = eval(input(\"Enter The Profit Amount: \"))\n",
    "    if profitAmount>1000000:\n",
    "        netTax = profitAmount*.45\n",
    "    elif profitAmount < 1000000:\n",
    "        netTax = profitAmount*.40\n",
    "\n",
    "# 5. Publicly Traded Mobile Company\n",
    "if taxpayerCategory == 5:\n",
    "    dividendRate = eval(input(\"Did The Publicly Traded Mobile Company Declare Dividend? If Yes Then Enter the Rate in %: \"))\n",
    "    profitAmount = eval(input(\"Enter The Profit Amount: \"))\n",
    "    if dividendRate == 0:\n",
    "        if profitAmount>1000000:\n",
    "            netTax = profitAmount*.40\n",
    "        elif profitAmount < 1000000:\n",
    "            netTax = profitAmount*.35\n",
    "    elif dividendRate > 30:\n",
    "        if profitAmount>1000000:\n",
    "            netTax = profitAmount*.2475\n",
    "        elif profitAmount < 1000000:\n",
    "            netTax = profitAmount*.2075\n",
    "    elif dividendRate < 10:\n",
    "        if profitAmount>1000000:\n",
    "            netTax = profitAmount*.35\n",
    "        elif profitAmount < 1000000:\n",
    "            netTax = profitAmount*.30\n",
    "            \n",
    "#Print Tax Amount            \n",
    "print(\"Net Tax For The Company is: \",round(netTax,2))"
   ]
  },
  {
   "cell_type": "markdown",
   "metadata": {},
   "source": [
    "## 3.B"
   ]
  },
  {
   "cell_type": "code",
   "execution_count": 4,
   "metadata": {},
   "outputs": [
    {
     "name": "stdout",
     "output_type": "stream",
     "text": [
      "Enter final account value: 10000\n",
      "Enter annual interest rate in percent: 4.2\n",
      "Enter number of years: 10\n",
      "Initial deposit value/Present value is:  6627.09\n"
     ]
    }
   ],
   "source": [
    "def presentValue(f, r, n):\n",
    "    p = f / pow((1 + r), n)\n",
    "    return p\n",
    "    \n",
    "f = eval(input(\"Enter final account value: \"))\n",
    "r = eval(input(\"Enter annual interest rate in percent: \"))\n",
    "n = eval(input(\"Enter number of years: \"))\n",
    "r=r/100\n",
    "presentValue = round(presentValue(f, r, n), 2)\n",
    "print(\"Initial deposit value/Present value is: \",presentValue)"
   ]
  },
  {
   "cell_type": "markdown",
   "metadata": {},
   "source": [
    "## 4. B"
   ]
  },
  {
   "cell_type": "code",
   "execution_count": 5,
   "metadata": {},
   "outputs": [
    {
     "name": "stdout",
     "output_type": "stream",
     "text": [
      "The weight of the package (in pounds): 15\n",
      "The shipping cost is: $10.5\n"
     ]
    }
   ],
   "source": [
    "\"\"\" There is a problem in this question. The shipping cost for packages in range of 21-50 pounds is not mentioned. \n",
    "That's why I have extended the range from 10-20 to 10-50\"\"\"\n",
    "\n",
    "w = eval(input(\"The weight of the package (in pounds): \"))\n",
    "if w>0 and w<=1:\n",
    "    print(\"The shipping cost is: $3.5\")\n",
    "elif w>1 and w<=3:\n",
    "    print(\"The shipping cost is: $5.5\")\n",
    "elif w>3 and w<=10:\n",
    "    print(\"The shipping cost is: $8.5\")\n",
    "elif w>10 and w<=50:\n",
    "    print(\"The shipping cost is: $10.5\")\n",
    "elif w>50:\n",
    "    print(\"The package cannot be shipped\")"
   ]
  },
  {
   "cell_type": "markdown",
   "metadata": {},
   "source": [
    "## 4. C"
   ]
  },
  {
   "cell_type": "code",
   "execution_count": null,
   "metadata": {},
   "outputs": [],
   "source": [
    "demand = eval(input(\"Demand Rate (i.e., 16,000 units): \"))\n",
    "setup_cost = eval(input(\"The setup cost is (i.e., BDT 50: \"))\n",
    "holding_cost = eval(input(\"The holding cost per item (i.e., BDT 2.5): \"))\n",
    "\n",
    "eoq = ((2 * demand * setup_cost)/holding_cost)**0.5\n",
    "print(\"According to the provided data the EOQ is:\", eoq)"
   ]
  },
  {
   "cell_type": "markdown",
   "metadata": {},
   "source": [
    "## 5. A"
   ]
  },
  {
   "cell_type": "code",
   "execution_count": 5,
   "metadata": {},
   "outputs": [],
   "source": [
    "import numpy as np\n",
    "x = np.array([[1, 2, 3, 4],\n",
    "            [4, 5, 6, 5],\n",
    "            [7, 8, 9, 6],\n",
    "            [3, 4, 5, 7]])"
   ]
  },
  {
   "cell_type": "code",
   "execution_count": 6,
   "metadata": {},
   "outputs": [
    {
     "data": {
      "text/plain": [
       "array([[1, 2, 3, 4],\n",
       "       [4, 5, 6, 5],\n",
       "       [7, 8, 9, 6],\n",
       "       [3, 4, 5, 7]])"
      ]
     },
     "execution_count": 6,
     "metadata": {},
     "output_type": "execute_result"
    }
   ],
   "source": [
    "x"
   ]
  },
  {
   "cell_type": "code",
   "execution_count": 7,
   "metadata": {},
   "outputs": [
    {
     "data": {
      "text/plain": [
       "array([[1, 2],\n",
       "       [4, 5],\n",
       "       [7, 8],\n",
       "       [3, 4]])"
      ]
     },
     "execution_count": 7,
     "metadata": {},
     "output_type": "execute_result"
    }
   ],
   "source": [
    "#(i)\n",
    "x[:,:2]"
   ]
  },
  {
   "cell_type": "code",
   "execution_count": 8,
   "metadata": {},
   "outputs": [
    {
     "data": {
      "text/plain": [
       "array([4, 5])"
      ]
     },
     "execution_count": 8,
     "metadata": {},
     "output_type": "execute_result"
    }
   ],
   "source": [
    "#(ii)\n",
    "x[1, :2]"
   ]
  },
  {
   "cell_type": "code",
   "execution_count": 9,
   "metadata": {},
   "outputs": [
    {
     "data": {
      "text/plain": [
       "array([3, 4, 5, 7])"
      ]
     },
     "execution_count": 9,
     "metadata": {},
     "output_type": "execute_result"
    }
   ],
   "source": [
    "#(iii)\n",
    "x[3, :]"
   ]
  },
  {
   "cell_type": "code",
   "execution_count": 10,
   "metadata": {},
   "outputs": [
    {
     "data": {
      "text/plain": [
       "array([[3, 4],\n",
       "       [6, 5],\n",
       "       [9, 6]])"
      ]
     },
     "execution_count": 10,
     "metadata": {},
     "output_type": "execute_result"
    }
   ],
   "source": [
    "#(iv)\n",
    "x[:3, 2:]"
   ]
  },
  {
   "cell_type": "markdown",
   "metadata": {},
   "source": [
    "## 6 - A"
   ]
  },
  {
   "cell_type": "code",
   "execution_count": null,
   "metadata": {},
   "outputs": [],
   "source": [
    "savingsAmount = eval(input(\"Enter the monthly savings amount: \"))\n",
    "\n",
    "months = 6\n",
    "monthlyIntRate = 5/100/12\n",
    "\n",
    "totalSavings = 0\n",
    "\n",
    "for i in range(months):\n",
    "    totalSavings = (savingsAmount + totalSavings)*(1+monthlyIntRate)\n",
    "print(\"At {0}% annual interest rate, with the monthly savings of ${1} for {2} months, the amount in the savings account will be ${3}.\".format(annualIntRate, savingsAmount, months,round(totalSavings, 2)))\n"
   ]
  },
  {
   "cell_type": "markdown",
   "metadata": {},
   "source": [
    "## 6 - C"
   ]
  },
  {
   "cell_type": "code",
   "execution_count": 1,
   "metadata": {},
   "outputs": [
    {
     "data": {
      "text/html": [
       "<div>\n",
       "<style scoped>\n",
       "    .dataframe tbody tr th:only-of-type {\n",
       "        vertical-align: middle;\n",
       "    }\n",
       "\n",
       "    .dataframe tbody tr th {\n",
       "        vertical-align: top;\n",
       "    }\n",
       "\n",
       "    .dataframe thead th {\n",
       "        text-align: right;\n",
       "    }\n",
       "</style>\n",
       "<table border=\"1\" class=\"dataframe\">\n",
       "  <thead>\n",
       "    <tr style=\"text-align: right;\">\n",
       "      <th></th>\n",
       "      <th>Age</th>\n",
       "      <th>Name</th>\n",
       "      <th>Rating</th>\n",
       "    </tr>\n",
       "  </thead>\n",
       "  <tbody>\n",
       "    <tr>\n",
       "      <td>0</td>\n",
       "      <td>25</td>\n",
       "      <td>tom</td>\n",
       "      <td>4.23</td>\n",
       "    </tr>\n",
       "    <tr>\n",
       "      <td>1</td>\n",
       "      <td>26</td>\n",
       "      <td>James</td>\n",
       "      <td>3.24</td>\n",
       "    </tr>\n",
       "    <tr>\n",
       "      <td>2</td>\n",
       "      <td>25</td>\n",
       "      <td>James</td>\n",
       "      <td>3.98</td>\n",
       "    </tr>\n",
       "    <tr>\n",
       "      <td>3</td>\n",
       "      <td>25</td>\n",
       "      <td>Ricky</td>\n",
       "      <td>3.98</td>\n",
       "    </tr>\n",
       "  </tbody>\n",
       "</table>\n",
       "</div>"
      ],
      "text/plain": [
       "   Age   Name  Rating\n",
       "0   25    tom    4.23\n",
       "1   26  James    3.24\n",
       "2   25  James    3.98\n",
       "3   25  Ricky    3.98"
      ]
     },
     "execution_count": 1,
     "metadata": {},
     "output_type": "execute_result"
    }
   ],
   "source": [
    "import pandas as pd\n",
    "data =[{'Age': 25, 'Name': 'tom', 'Rating': 4.23}, \n",
    "       {'Age':26, 'Name': 'James', 'Rating': 3.24 },\n",
    "       {'Age':25, 'Name': 'James', 'Rating': 3.98},\n",
    "       {'Age': 25, 'Name': 'Ricky', \"Rating\": 3.98}\n",
    "      ]\n",
    "df = pd.DataFrame(data)\n",
    "df"
   ]
  },
  {
   "cell_type": "code",
   "execution_count": 2,
   "metadata": {},
   "outputs": [
    {
     "data": {
      "text/html": [
       "<div>\n",
       "<style scoped>\n",
       "    .dataframe tbody tr th:only-of-type {\n",
       "        vertical-align: middle;\n",
       "    }\n",
       "\n",
       "    .dataframe tbody tr th {\n",
       "        vertical-align: top;\n",
       "    }\n",
       "\n",
       "    .dataframe thead th {\n",
       "        text-align: right;\n",
       "    }\n",
       "</style>\n",
       "<table border=\"1\" class=\"dataframe\">\n",
       "  <thead>\n",
       "    <tr style=\"text-align: right;\">\n",
       "      <th></th>\n",
       "      <th>Age</th>\n",
       "      <th>Rating</th>\n",
       "    </tr>\n",
       "  </thead>\n",
       "  <tbody>\n",
       "    <tr>\n",
       "      <td>count</td>\n",
       "      <td>4.00</td>\n",
       "      <td>4.000000</td>\n",
       "    </tr>\n",
       "    <tr>\n",
       "      <td>mean</td>\n",
       "      <td>25.25</td>\n",
       "      <td>3.857500</td>\n",
       "    </tr>\n",
       "    <tr>\n",
       "      <td>std</td>\n",
       "      <td>0.50</td>\n",
       "      <td>0.428204</td>\n",
       "    </tr>\n",
       "    <tr>\n",
       "      <td>min</td>\n",
       "      <td>25.00</td>\n",
       "      <td>3.240000</td>\n",
       "    </tr>\n",
       "    <tr>\n",
       "      <td>25%</td>\n",
       "      <td>25.00</td>\n",
       "      <td>3.795000</td>\n",
       "    </tr>\n",
       "    <tr>\n",
       "      <td>50%</td>\n",
       "      <td>25.00</td>\n",
       "      <td>3.980000</td>\n",
       "    </tr>\n",
       "    <tr>\n",
       "      <td>75%</td>\n",
       "      <td>25.25</td>\n",
       "      <td>4.042500</td>\n",
       "    </tr>\n",
       "    <tr>\n",
       "      <td>max</td>\n",
       "      <td>26.00</td>\n",
       "      <td>4.230000</td>\n",
       "    </tr>\n",
       "  </tbody>\n",
       "</table>\n",
       "</div>"
      ],
      "text/plain": [
       "         Age    Rating\n",
       "count   4.00  4.000000\n",
       "mean   25.25  3.857500\n",
       "std     0.50  0.428204\n",
       "min    25.00  3.240000\n",
       "25%    25.00  3.795000\n",
       "50%    25.00  3.980000\n",
       "75%    25.25  4.042500\n",
       "max    26.00  4.230000"
      ]
     },
     "execution_count": 2,
     "metadata": {},
     "output_type": "execute_result"
    }
   ],
   "source": [
    "df.describe()"
   ]
  }
 ],
 "metadata": {
  "kernelspec": {
   "display_name": "Python 3",
   "language": "python",
   "name": "python3"
  },
  "language_info": {
   "codemirror_mode": {
    "name": "ipython",
    "version": 3
   },
   "file_extension": ".py",
   "mimetype": "text/x-python",
   "name": "python",
   "nbconvert_exporter": "python",
   "pygments_lexer": "ipython3",
   "version": "3.7.4"
  }
 },
 "nbformat": 4,
 "nbformat_minor": 2
}
