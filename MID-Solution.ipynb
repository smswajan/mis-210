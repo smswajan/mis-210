{
 "cells": [
  {
   "cell_type": "markdown",
   "metadata": {},
   "source": [
    "## Question - 1"
   ]
  },
  {
   "cell_type": "code",
   "execution_count": 9,
   "metadata": {},
   "outputs": [
    {
     "name": "stdout",
     "output_type": "stream",
     "text": [
      "1: Publicly Traded Company\n",
      "2: Non-Publicly Traded Company\n",
      "3: Publicly Traded Cigarette Company\n",
      "4: Mobile Phone Operator Company\n",
      "5: Publicly Traded Mobile Phone Company\n",
      "Enter Your Category Number: 1\n",
      "Did The Publicly Traded Company Declare Dividend? If Yes Then Enter the Rate in %: 40\n",
      "Enter The Profit Amount: 13000000\n",
      "Net Tax For The Company is:  3217500.0\n"
     ]
    }
   ],
   "source": [
    "# Didn't take time, Just Copied from Zobaer Ul Islam (https://bit.ly/2QoM2JL)\n",
    "#Category List\n",
    "print(\"1: Publicly Traded Company\")\n",
    "print(\"2: Non-Publicly Traded Company\")\n",
    "print(\"3: Publicly Traded Cigarette Company\")\n",
    "print(\"4: Mobile Phone Operator Company\")\n",
    "print(\"5: Publicly Traded Mobile Phone Company\")\n",
    "\n",
    "#Inputs\n",
    "taxpayerCategory = eval(input(\"Enter Your Category Number: \"))\n",
    "\n",
    "#Calculating Tax Amount#\n",
    "\n",
    "# 1. Publicly Traded Company\n",
    "if taxpayerCategory == 1:\n",
    "    dividendRate = eval(input(\"Did The Publicly Traded Company Declare Dividend? If Yes Then Enter the Rate in %: \"))\n",
    "    profitAmount = eval(input(\"Enter The Profit Amount: \"))\n",
    "    if dividendRate == 0:\n",
    "        if profitAmount>1000000:\n",
    "            netTax = profitAmount*.275\n",
    "        elif profitAmount < 1000000:\n",
    "            netTax = profitAmount*.255\n",
    "    elif dividendRate > 30:\n",
    "        if profitAmount>1000000:\n",
    "            netTax = profitAmount*.2475\n",
    "        elif profitAmount < 1000000:\n",
    "            netTax = profitAmount*.2075\n",
    "    elif dividendRate < 10:\n",
    "        if profitAmount>1000000:\n",
    "            netTax = profitAmount*.35\n",
    "        elif profitAmount < 1000000:\n",
    "            netTax = profitAmount*.30\n",
    "\n",
    "# 2. Non Publicly Traded Company\n",
    "if taxpayerCategory == 2:\n",
    "    paidupCapitalThroughIPO = eval(input(\"How Much Share of your Paid Up Capital was Transfered through IPO? Enter the rate in %: \"))\n",
    "    profitAmount = eval(input(\"Enter The Profit Amount: \"))\n",
    "    if paidupCapitalThroughIPO >= 20:\n",
    "        if profitAmount>1000000:\n",
    "            taxBeforeRebate = profitAmount*.35\n",
    "            netTax = taxBeforeRebate  - taxBeforeRebate*.10\n",
    "        elif profitAmount < 1000000:\n",
    "            taxBeforeRebate = profitAmount*.32\n",
    "            netTax = taxBeforeRebate  - taxBeforeRebate*.10\n",
    "    else:\n",
    "        if profitAmount>1000000:\n",
    "            netTax = profitAmount*.35\n",
    "        elif profitAmount < 1000000:\n",
    "            netTax = profitAmount*.32\n",
    "\n",
    "# 3. Publicly Traded Cigarette Company\n",
    "if taxpayerCategory == 3:\n",
    "    dividendRate = eval(input(\"Did The Publicly Traded Cigarette Company Declare Dividend? If Yes Then Enter the Rate in %: \"))\n",
    "    profitAmount = eval(input(\"Enter The Profit Amount: \"))\n",
    "    if dividendRate == 0:\n",
    "        if profitAmount>1000000:\n",
    "            netTax = profitAmount*.40\n",
    "        elif profitAmount < 1000000:\n",
    "            netTax = profitAmount*.35\n",
    "    elif dividendRate > 30:\n",
    "        if profitAmount>1000000:\n",
    "            netTax = profitAmount*.2475\n",
    "        elif profitAmount < 1000000:\n",
    "            netTax = profitAmount*.2075\n",
    "    elif dividendRate < 10:\n",
    "        if profitAmount>1000000:\n",
    "            netTax = profitAmount*.35\n",
    "        elif profitAmount < 1000000:\n",
    "            netTax = profitAmount*.30\n",
    "            \n",
    "# 4. Mobile Phone Operator Company\n",
    "if taxpayerCategory == 4:\n",
    "    profitAmount = eval(input(\"Enter The Profit Amount: \"))\n",
    "    if profitAmount>1000000:\n",
    "        netTax = profitAmount*.45\n",
    "    elif profitAmount < 1000000:\n",
    "        netTax = profitAmount*.40\n",
    "\n",
    "# 5. Publicly Traded Mobile Company.\n",
    "if taxpayerCategory == 5:\n",
    "    dividendRate = eval(input(\"Did The Publicly Traded Mobile Company Declare Dividend? If Yes Then Enter the Rate in %: \"))\n",
    "    profitAmount = eval(input(\"Enter The Profit Amount: \"))\n",
    "    if dividendRate == 0:\n",
    "        if profitAmount>1000000:\n",
    "            netTax = profitAmount*.40\n",
    "        elif profitAmount < 1000000:\n",
    "            netTax = profitAmount*.35\n",
    "    elif dividendRate > 30:\n",
    "        if profitAmount>1000000:\n",
    "            netTax = profitAmount*.2475\n",
    "        elif profitAmount < 1000000:\n",
    "            netTax = profitAmount*.2075\n",
    "    elif dividendRate < 10:\n",
    "        if profitAmount>1000000:\n",
    "            netTax = profitAmount*.35\n",
    "        elif profitAmount < 1000000:\n",
    "            netTax = profitAmount*.30\n",
    "            \n",
    "#Print Tax Amount            \n",
    "print(\"Net Tax For The Company is: \",round(netTax,2))"
   ]
  },
  {
   "cell_type": "markdown",
   "metadata": {},
   "source": [
    "## Question - 2"
   ]
  },
  {
   "cell_type": "code",
   "execution_count": 8,
   "metadata": {},
   "outputs": [
    {
     "name": "stdout",
     "output_type": "stream",
     "text": [
      "Enter final account value: 15000\n",
      "Enter annual interest rate in percent: 5\n",
      "Enter number of years: 5\n",
      "Initial deposit value/Present value is:  13714.62\n"
     ]
    }
   ],
   "source": [
    "def presentValue(f, r, n):\n",
    "    p = f / pow((1 + r), n)\n",
    "    return p\n",
    "    \n",
    "f = eval(input(\"Enter final account value: \"))\n",
    "r = eval(input(\"Enter annual interest rate in percent: \"))\n",
    "n = eval(input(\"Enter number of years: \"))\n",
    "r=r/100\n",
    "presentValue = round(presentValue(f, r, n), 2)\n",
    "print(\"Initial deposit value/Present value is: \",presentValue)"
   ]
  },
  {
   "cell_type": "markdown",
   "metadata": {},
   "source": [
    "## Question - 3"
   ]
  },
  {
   "cell_type": "code",
   "execution_count": null,
   "metadata": {},
   "outputs": [],
   "source": [
    "Question e ektu ghapla ache"
   ]
  },
  {
   "cell_type": "markdown",
   "metadata": {},
   "source": [
    "## Question - 4"
   ]
  },
  {
   "cell_type": "code",
   "execution_count": null,
   "metadata": {},
   "outputs": [],
   "source": [
    "demand = eval(input(\"Demand Rate (i.e., 16,000 units): \"))\n",
    "setup_cost = eval(input(\"The setup cost is (i.e., BDT 50: \"))\n",
    "holding_cost = eval(input(\"The holding cost per item (i.e., BDT 2.5): \"))\n",
    "\n",
    "eoq = ((2 * demand * setup_cost)/holding_cost)**0.5\n",
    "print(\"According to the provided data the EOQ is:\", eoq)"
   ]
  },
  {
   "cell_type": "markdown",
   "metadata": {},
   "source": [
    "## Question - 5"
   ]
  },
  {
   "cell_type": "code",
   "execution_count": 10,
   "metadata": {},
   "outputs": [
    {
     "name": "stdout",
     "output_type": "stream",
     "text": [
      "Enter the monthly savings amount: 100\n",
      "At 5% annual interest rate, with the monthly savings of $100 for 6 months, the amount in the savings account will be $608.81.\n"
     ]
    }
   ],
   "source": [
    "savingsAmount = eval(input(\"Enter the monthly savings amount: \"))\n",
    "\n",
    "months = 6\n",
    "monthlyIntRate = 5/100/12\n",
    "\n",
    "totalSavings = 0\n",
    "\n",
    "for i in range(months):\n",
    "    totalSavings = (savingsAmount + totalSavings)*(1+monthlyIntRate)\n",
    "print(\"At {0}% annual interest rate, with the monthly savings of ${1} for {2} months, the amount in the savings account will be ${3}.\".format(annualIntRate, savingsAmount, months,round(totalSavings, 2)))"
   ]
  },
  {
   "cell_type": "markdown",
   "metadata": {},
   "source": [
    "## Question - 6"
   ]
  },
  {
   "cell_type": "code",
   "execution_count": null,
   "metadata": {},
   "outputs": [],
   "source": [
    "store_1 = eval(input(\"Enter today's total sales for store one (rounded to nearest $100): \"))\n",
    "store_2 = eval(input(\"Enter today's total sales for store two (rounded to nearest $100): \"))\n",
    "store_3 = eval(input(\"Enter today's total sales for store three (rounded to nearest $100): \"))\n",
    "\n",
    "for i in range(0,store_1, 100):\n",
    "    print(\"*\", end=\"\")\n",
    "print()\n",
    "for j in range(0,store_2,100):\n",
    "    print(\"*\", end=\"\")\n",
    "print()\n",
    "for k in range(0, store_3, 100):\n",
    "    print(\"*\", end=\"\")\n",
    "© 2019 GitHub, Inc."
   ]
  },
  {
   "cell_type": "markdown",
   "metadata": {},
   "source": [
    "## Question - 7"
   ]
  },
  {
   "cell_type": "code",
   "execution_count": 12,
   "metadata": {},
   "outputs": [
    {
     "name": "stdout",
     "output_type": "stream",
     "text": [
      "Enter the weight of your package (in kilograms): 8\n",
      "Enter the distance it is to be shipped (in miles): 10\n",
      "The shipping charge of your package is:  53.0\n"
     ]
    }
   ],
   "source": [
    "def calculateCharge (weight, distance) :\n",
    "    if weight < 0:\n",
    "        return \"Weight Cannot be less than or equal to ZERO\"\n",
    "    elif weight <= 2 and weight > 0:\n",
    "        rate = 3.1\n",
    "    elif weight <= 6:\n",
    "        rate = 4.2\n",
    "    elif weight <= 10:\n",
    "        rate = 5.30\n",
    "    else:\n",
    "        rate = 6.40\n",
    "    \n",
    "    shippingCharge = rate*distance\n",
    "    print(\"The shipping charge of your package is: \", shippingCharge)\n",
    "\n",
    "weight = eval(input(\"Enter the weight of your package (in kilograms): \"))\n",
    "distance = eval(input(\"Enter the distance it is to be shipped (in miles): \"))\n",
    "calculateCharge(weight, distance)\n",
    "\n"
   ]
  },
  {
   "cell_type": "markdown",
   "metadata": {},
   "source": [
    "## Question - 8"
   ]
  },
  {
   "cell_type": "code",
   "execution_count": null,
   "metadata": {},
   "outputs": [],
   "source": [
    "total_occupied = 0\n",
    "for floor in range(10, 17):\n",
    "    if floor == 13:\n",
    "        continue\n",
    "    num_of_suits = int(input(\"How many suits are occupied in floor {0} : \".format(floor)))\n",
    "    if num_of_suits not in range(0, 21):\n",
    "        num_of_suits = int(input(\"Enter the value between 0 and 20 : \".format(floor)))\n",
    "    total_occupied = total_occupied + num_of_suits\n",
    "print(\"The total number of suits occupied =\", total_occupied)\n",
    "\n",
    "total_suits = 120\n",
    "percent_of_occupancy = total_occupied * 100 / total_suits\n",
    "print(\"The hotel has {0} suits, {1} of those are occupied. The percentage of them are occupied is {2}\".format(total_suits,total_occupied,percent_of_occupancy))"
   ]
  },
  {
   "cell_type": "markdown",
   "metadata": {},
   "source": [
    "## Question - 9"
   ]
  },
  {
   "cell_type": "code",
   "execution_count": 8,
   "metadata": {},
   "outputs": [
    {
     "name": "stdout",
     "output_type": "stream",
     "text": [
      "Loan Amount: 10000\n",
      "Monthly Interest Rate: 1\n",
      "Number of Payments: 36\n",
      "Monthly Payment: 332.14\n",
      "Amount Paid Back: 11957.15\n",
      "Interest Paid:  1957.15\n"
     ]
    }
   ],
   "source": [
    "l = eval(input(\"Loan Amount: \"))\n",
    "rate = eval(input(\"Monthly Interest Rate: \"))\n",
    "rate = rate/100\n",
    "n = eval(input(\"Number of Payments: \"))\n",
    "\n",
    "monthlyPayment = rate * pow(1+rate,n) * l / (pow(1+rate, n) - 1)\n",
    "amountPaidBack = monthlyPayment * n\n",
    "intPaid = amountPaidBack - l\n",
    "print(\"Monthly Payment:\", round(monthlyPayment, 2))\n",
    "print(\"Amount Paid Back:\", round(amountPaidBack,2))\n",
    "print(\"Interest Paid: \", round(intPaid,2))"
   ]
  },
  {
   "cell_type": "markdown",
   "metadata": {},
   "source": [
    "## Question - 10"
   ]
  },
  {
   "cell_type": "code",
   "execution_count": 13,
   "metadata": {},
   "outputs": [
    {
     "name": "stdout",
     "output_type": "stream",
     "text": [
      "Enter the hourly rate: 70\n",
      "Enter the total consulting time in minutes: 75\n",
      "Enter the income amount: 1000\n",
      "Your total consulting bill is: 21.0\n"
     ]
    }
   ],
   "source": [
    "def computeBill(hourlyRate, time,income):\n",
    "    if income <= 25000:\n",
    "        if time <= 30:\n",
    "            bill = 0\n",
    "        else:\n",
    "            bill = (time-30)*hourlyRate*.4/60\n",
    "    else:\n",
    "        if time <= 20:\n",
    "            bill = 0\n",
    "        else:\n",
    "            bill = (time-20)*hourlyRate*.7/60\n",
    "    return bill\n",
    "hourlyRate = eval(input(\"Enter the hourly rate: \"))\n",
    "time = eval(input(\"Enter the total consulting time in minutes: \"))\n",
    "income = eval(input(\"Enter the income amount: \"))\n",
    "\n",
    "bill = computeBill(hourlyRate, time, income)\n",
    "print(\"Your total consulting bill is:\", bill)"
   ]
  },
  {
   "cell_type": "markdown",
   "metadata": {},
   "source": [
    "## Question - 11"
   ]
  },
  {
   "cell_type": "code",
   "execution_count": null,
   "metadata": {},
   "outputs": [],
   "source": []
  },
  {
   "cell_type": "code",
   "execution_count": null,
   "metadata": {},
   "outputs": [],
   "source": []
  },
  {
   "cell_type": "code",
   "execution_count": null,
   "metadata": {},
   "outputs": [],
   "source": []
  },
  {
   "cell_type": "code",
   "execution_count": null,
   "metadata": {},
   "outputs": [],
   "source": []
  },
  {
   "cell_type": "code",
   "execution_count": null,
   "metadata": {},
   "outputs": [],
   "source": []
  },
  {
   "cell_type": "code",
   "execution_count": null,
   "metadata": {},
   "outputs": [],
   "source": []
  }
 ],
 "metadata": {
  "kernelspec": {
   "display_name": "Python 3",
   "language": "python",
   "name": "python3"
  },
  "language_info": {
   "codemirror_mode": {
    "name": "ipython",
    "version": 3
   },
   "file_extension": ".py",
   "mimetype": "text/x-python",
   "name": "python",
   "nbconvert_exporter": "python",
   "pygments_lexer": "ipython3",
   "version": "3.7.3"
  }
 },
 "nbformat": 4,
 "nbformat_minor": 2
}
