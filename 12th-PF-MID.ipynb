{
 "cells": [
  {
   "cell_type": "code",
   "execution_count": 1,
   "metadata": {},
   "outputs": [
    {
     "name": "stdout",
     "output_type": "stream",
     "text": [
      "Enter the credit card number: 4388576018410707\n",
      "The card number is VALID\n"
     ]
    }
   ],
   "source": [
    "number = int(input(\"Enter the credit card number: \"))\n",
    "number = list(map(int, str(number)))\n",
    "def sumOfDoubleEvenPlace(number):\n",
    "    sumOfDoubleEvenPlace = 0\n",
    "    for i in range(len(number)-2, -1, -2):\n",
    "        even_twice = number[i]*2\n",
    "        if even_twice > 9:\n",
    "            even_twice = str(even_twice)\n",
    "            even_twice = int(even_twice[0]) + int(even_twice[1])\n",
    "        sumOfDoubleEvenPlace+=even_twice\n",
    "    return sumOfDoubleEvenPlace\n",
    "\n",
    "def sumOfOddPlace(number):\n",
    "    sumOfOddPlace = 0\n",
    "    for i in range(len(number)-1, -1, -2):\n",
    "        sumOfOddPlace += number[i]\n",
    "    return sumOfOddPlace\n",
    "\n",
    "def sumOfOddEven(number):\n",
    "    total = sumOfDoubleEvenPlace(number) + sumOfOddPlace(number)\n",
    "    return total\n",
    "\n",
    "def isValid(number):\n",
    "    if number[0]==4 or number[0] == 5 or (number[0]==3 and number[1]==7) or number[0] == 6:\n",
    "        if sumOfOddEven(number)%10 == 0:\n",
    "            print(\"The card number is VALID\")\n",
    "        else:\n",
    "            print(\"The card number is INVALID\")\n",
    "    else:\n",
    "        print(\"The card number is INVALID\")\n",
    "isValid(number)"
   ]
  },
  {
   "cell_type": "code",
   "execution_count": null,
   "metadata": {},
   "outputs": [],
   "source": []
  }
 ],
 "metadata": {
  "kernelspec": {
   "display_name": "Python 3",
   "language": "python",
   "name": "python3"
  },
  "language_info": {
   "codemirror_mode": {
    "name": "ipython",
    "version": 3
   },
   "file_extension": ".py",
   "mimetype": "text/x-python",
   "name": "python",
   "nbconvert_exporter": "python",
   "pygments_lexer": "ipython3",
   "version": "3.7.3"
  }
 },
 "nbformat": 4,
 "nbformat_minor": 2
}
