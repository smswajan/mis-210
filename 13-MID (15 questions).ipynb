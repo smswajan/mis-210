{
 "cells": [
  {
   "cell_type": "markdown",
   "metadata": {},
   "source": [
    "## Question - 1"
   ]
  },
  {
   "cell_type": "code",
   "execution_count": 9,
   "metadata": {},
   "outputs": [
    {
     "name": "stdout",
     "output_type": "stream",
     "text": [
      "1: Publicly Traded Company\n",
      "2: Non-Publicly Traded Company\n",
      "3: Publicly Traded Cigarette Company\n",
      "4: Mobile Phone Operator Company\n",
      "5: Publicly Traded Mobile Phone Company\n",
      "Enter Your Category Number: 1\n",
      "Did The Publicly Traded Company Declare Dividend? If Yes Then Enter the Rate in %: 40\n",
      "Enter The Profit Amount: 13000000\n",
      "Net Tax For The Company is:  3217500.0\n"
     ]
    }
   ],
   "source": [
    "# Didn't take time, Just Copied from Zobaer Ul Islam (https://bit.ly/2QoM2JL)\n",
    "#Category List\n",
    "print(\"1: Publicly Traded Company\")\n",
    "print(\"2: Non-Publicly Traded Company\")\n",
    "print(\"3: Publicly Traded Cigarette Company\")\n",
    "print(\"4: Mobile Phone Operator Company\")\n",
    "print(\"5: Publicly Traded Mobile Phone Company\")\n",
    "\n",
    "#Inputs\n",
    "taxpayerCategory = eval(input(\"Enter Your Category Number: \"))\n",
    "\n",
    "#Calculating Tax Amount#\n",
    "\n",
    "# 1. Publicly Traded Company\n",
    "if taxpayerCategory == 1:\n",
    "    dividendRate = eval(input(\"Did The Publicly Traded Company Declare Dividend? If Yes Then Enter the Rate in %: \"))\n",
    "    profitAmount = eval(input(\"Enter The Profit Amount: \"))\n",
    "    if dividendRate == 0:\n",
    "        if profitAmount>1000000:\n",
    "            netTax = profitAmount*.275\n",
    "        elif profitAmount < 1000000:\n",
    "            netTax = profitAmount*.255\n",
    "    elif dividendRate > 30:\n",
    "        if profitAmount>1000000:\n",
    "            netTax = profitAmount*.2475\n",
    "        elif profitAmount < 1000000:\n",
    "            netTax = profitAmount*.2075\n",
    "    elif dividendRate < 10:\n",
    "        if profitAmount>1000000:\n",
    "            netTax = profitAmount*.35\n",
    "        elif profitAmount < 1000000:\n",
    "            netTax = profitAmount*.30\n",
    "\n",
    "# 2. Non Publicly Traded Company\n",
    "if taxpayerCategory == 2:\n",
    "    paidupCapitalThroughIPO = eval(input(\"How Much Share of your Paid Up Capital was Transfered through IPO? Enter the rate in %: \"))\n",
    "    profitAmount = eval(input(\"Enter The Profit Amount: \"))\n",
    "    if paidupCapitalThroughIPO >= 20:\n",
    "        if profitAmount>1000000:\n",
    "            taxBeforeRebate = profitAmount*.35\n",
    "            netTax = taxBeforeRebate  - taxBeforeRebate*.10\n",
    "        elif profitAmount < 1000000:\n",
    "            taxBeforeRebate = profitAmount*.32\n",
    "            netTax = taxBeforeRebate  - taxBeforeRebate*.10\n",
    "    else:\n",
    "        if profitAmount>1000000:\n",
    "            netTax = profitAmount*.35\n",
    "        elif profitAmount < 1000000:\n",
    "            netTax = profitAmount*.32\n",
    "\n",
    "# 3. Publicly Traded Cigarette Company\n",
    "if taxpayerCategory == 3:\n",
    "    dividendRate = eval(input(\"Did The Publicly Traded Cigarette Company Declare Dividend? If Yes Then Enter the Rate in %: \"))\n",
    "    profitAmount = eval(input(\"Enter The Profit Amount: \"))\n",
    "    if dividendRate == 0:\n",
    "        if profitAmount>1000000:\n",
    "            netTax = profitAmount*.40\n",
    "        elif profitAmount < 1000000:\n",
    "            netTax = profitAmount*.35\n",
    "    elif dividendRate > 30:\n",
    "        if profitAmount>1000000:\n",
    "            netTax = profitAmount*.2475\n",
    "        elif profitAmount < 1000000:\n",
    "            netTax = profitAmount*.2075\n",
    "    elif dividendRate < 10:\n",
    "        if profitAmount>1000000:\n",
    "            netTax = profitAmount*.35\n",
    "        elif profitAmount < 1000000:\n",
    "            netTax = profitAmount*.30\n",
    "            \n",
    "# 4. Mobile Phone Operator Company\n",
    "if taxpayerCategory == 4:\n",
    "    profitAmount = eval(input(\"Enter The Profit Amount: \"))\n",
    "    if profitAmount>1000000:\n",
    "        netTax = profitAmount*.45\n",
    "    elif profitAmount < 1000000:\n",
    "        netTax = profitAmount*.40\n",
    "\n",
    "# 5. Publicly Traded Mobile Company\n",
    "if taxpayerCategory == 5:\n",
    "    dividendRate = eval(input(\"Did The Publicly Traded Mobile Company Declare Dividend? If Yes Then Enter the Rate in %: \"))\n",
    "    profitAmount = eval(input(\"Enter The Profit Amount: \"))\n",
    "    if dividendRate == 0:\n",
    "        if profitAmount>1000000:\n",
    "            netTax = profitAmount*.40\n",
    "        elif profitAmount < 1000000:\n",
    "            netTax = profitAmount*.35\n",
    "    elif dividendRate > 30:\n",
    "        if profitAmount>1000000:\n",
    "            netTax = profitAmount*.2475\n",
    "        elif profitAmount < 1000000:\n",
    "            netTax = profitAmount*.2075\n",
    "    elif dividendRate < 10:\n",
    "        if profitAmount>1000000:\n",
    "            netTax = profitAmount*.35\n",
    "        elif profitAmount < 1000000:\n",
    "            netTax = profitAmount*.30\n",
    "            \n",
    "#Print Tax Amount            \n",
    "print(\"Net Tax For The Company is: \",round(netTax,2))"
   ]
  },
  {
   "cell_type": "markdown",
   "metadata": {},
   "source": [
    "## Question - 2"
   ]
  },
  {
   "cell_type": "code",
   "execution_count": 6,
   "metadata": {},
   "outputs": [
    {
     "name": "stdout",
     "output_type": "stream",
     "text": [
      "Enter final account value: 10000\n",
      "Enter annual interest rate in percent: 1\n",
      "Enter number of years: 5\n",
      "Initial deposit value/Present value is:  9514.66\n"
     ]
    }
   ],
   "source": [
    "def presentValue(f, r, n):\n",
    "    p = f / pow((1 + r), n)\n",
    "    return p\n",
    "    \n",
    "f = eval(input(\"Enter final account value: \"))\n",
    "r = eval(input(\"Enter annual interest rate in percent: \"))\n",
    "n = eval(input(\"Enter number of years: \"))\n",
    "r=r/100\n",
    "presentValue = round(presentValue(f, r, n), 2)\n",
    "print(\"Initial deposit value/Present value is: \",presentValue)"
   ]
  },
  {
   "cell_type": "markdown",
   "metadata": {},
   "source": [
    "## Question - 3"
   ]
  },
  {
   "cell_type": "code",
   "execution_count": null,
   "metadata": {},
   "outputs": [],
   "source": [
    "Question e ektu ghapla ache"
   ]
  },
  {
   "cell_type": "markdown",
   "metadata": {},
   "source": [
    "## Question - 4"
   ]
  },
  {
   "cell_type": "code",
   "execution_count": null,
   "metadata": {},
   "outputs": [],
   "source": [
    "demand = eval(input(\"Demand Rate (i.e., 16,000 units): \"))\n",
    "setup_cost = eval(input(\"The setup cost is (i.e., BDT 50: \"))\n",
    "holding_cost = eval(input(\"The holding cost per item (i.e., BDT 2.5): \"))\n",
    "\n",
    "eoq = ((2 * demand * setup_cost)/holding_cost)**0.5\n",
    "print(\"According to the provided data the EOQ is:\", eoq)"
   ]
  },
  {
   "cell_type": "markdown",
   "metadata": {},
   "source": [
    "## Question - 5"
   ]
  },
  {
   "cell_type": "code",
   "execution_count": 10,
   "metadata": {},
   "outputs": [
    {
     "name": "stdout",
     "output_type": "stream",
     "text": [
      "Enter the monthly savings amount: 100\n",
      "At 5% annual interest rate, with the monthly savings of $100 for 6 months, the amount in the savings account will be $608.81.\n"
     ]
    }
   ],
   "source": [
    "savingsAmount = eval(input(\"Enter the monthly savings amount: \"))\n",
    "\n",
    "months = 6\n",
    "monthlyIntRate = 5/100/12\n",
    "\n",
    "totalSavings = 0\n",
    "\n",
    "for i in range(months):\n",
    "    totalSavings = (savingsAmount + totalSavings)*(1+monthlyIntRate)\n",
    "print(\"At {0}% annual interest rate, with the monthly savings of ${1} for {2} months, the amount in the savings account will be ${3}.\".format(annualIntRate, savingsAmount, months,round(totalSavings, 2)))"
   ]
  },
  {
   "cell_type": "markdown",
   "metadata": {},
   "source": [
    "## Question - 6"
   ]
  },
  {
   "cell_type": "code",
   "execution_count": null,
   "metadata": {},
   "outputs": [],
   "source": [
    "store_1 = eval(input(\"Enter today's total sales for store one (rounded to nearest $100): \"))\n",
    "store_2 = eval(input(\"Enter today's total sales for store two (rounded to nearest $100): \"))\n",
    "store_3 = eval(input(\"Enter today's total sales for store three (rounded to nearest $100): \"))\n",
    "\n",
    "for i in range(0,store_1, 100):\n",
    "    print(\"*\", end=\"\")\n",
    "print()\n",
    "for j in range(0,store_2,100):\n",
    "    print(\"*\", end=\"\")\n",
    "print()\n",
    "for k in range(0, store_3, 100):\n",
    "    print(\"*\", end=\"\")\n",
    "© 2019 GitHub, Inc."
   ]
  },
  {
   "cell_type": "markdown",
   "metadata": {},
   "source": [
    "## Question - 7"
   ]
  },
  {
   "cell_type": "code",
   "execution_count": 12,
   "metadata": {},
   "outputs": [
    {
     "name": "stdout",
     "output_type": "stream",
     "text": [
      "Enter the weight of your package (in kilograms): 8\n",
      "Enter the distance it is to be shipped (in miles): 10\n",
      "The shipping charge of your package is:  53.0\n"
     ]
    }
   ],
   "source": [
    "def calculateCharge (weight, distance) :\n",
    "    if weight < 0:\n",
    "        return \"Weight Cannot be less than or equal to ZERO\"\n",
    "    elif weight <= 2 and weight > 0:\n",
    "        rate = 3.1\n",
    "    elif weight <= 6:\n",
    "        rate = 4.2\n",
    "    elif weight <= 10:\n",
    "        rate = 5.30\n",
    "    else:\n",
    "        rate = 6.40\n",
    "    \n",
    "    shippingCharge = rate*distance\n",
    "    print(\"The shipping charge of your package is: \", shippingCharge)\n",
    "\n",
    "weight = eval(input(\"Enter the weight of your package (in kilograms): \"))\n",
    "distance = eval(input(\"Enter the distance it is to be shipped (in miles): \"))\n",
    "calculateCharge(weight, distance)\n",
    "\n"
   ]
  },
  {
   "cell_type": "markdown",
   "metadata": {},
   "source": [
    "## Question - 8"
   ]
  },
  {
   "cell_type": "code",
   "execution_count": null,
   "metadata": {},
   "outputs": [],
   "source": [
    "total_occupied = 0\n",
    "for floor in range(10, 17):\n",
    "    if floor == 13:\n",
    "        continue\n",
    "    num_of_suits = int(input(\"How many suits are occupied in floor {0} : \".format(floor)))\n",
    "    if num_of_suits not in range(0, 21):\n",
    "        num_of_suits = int(input(\"Enter the value between 0 and 20 : \".format(floor)))\n",
    "    total_occupied = total_occupied + num_of_suits\n",
    "print(\"The total number of suits occupied =\", total_occupied)\n",
    "\n",
    "total_suits = 120\n",
    "percent_of_occupancy = total_occupied * 100 / total_suits\n",
    "print(\"The hotel has {0} suits, {1} of those are occupied. The percentage of them are occupied is {2}\".format(total_suits,total_occupied,percent_of_occupancy))"
   ]
  },
  {
   "cell_type": "markdown",
   "metadata": {},
   "source": [
    "## Question - 9"
   ]
  },
  {
   "cell_type": "code",
   "execution_count": 8,
   "metadata": {},
   "outputs": [
    {
     "name": "stdout",
     "output_type": "stream",
     "text": [
      "Loan Amount: 10000\n",
      "Monthly Interest Rate: 1\n",
      "Number of Payments: 36\n",
      "Monthly Payment: 332.14\n",
      "Amount Paid Back: 11957.15\n",
      "Interest Paid:  1957.15\n"
     ]
    }
   ],
   "source": [
    "l = eval(input(\"Loan Amount: \"))\n",
    "rate = eval(input(\"Monthly Interest Rate: \"))\n",
    "rate = rate/100\n",
    "n = eval(input(\"Number of Payments: \"))\n",
    "\n",
    "monthlyPayment = rate * pow(1+rate,n) * l / (pow(1+rate, n) - 1)\n",
    "amountPaidBack = monthlyPayment * n\n",
    "intPaid = amountPaidBack - l\n",
    "print(\"Monthly Payment:\", round(monthlyPayment, 2))\n",
    "print(\"Amount Paid Back:\", round(amountPaidBack,2))\n",
    "print(\"Interest Paid: \", round(intPaid,2))"
   ]
  },
  {
   "cell_type": "markdown",
   "metadata": {},
   "source": [
    "## Question - 10"
   ]
  },
  {
   "cell_type": "code",
   "execution_count": 13,
   "metadata": {},
   "outputs": [
    {
     "name": "stdout",
     "output_type": "stream",
     "text": [
      "Enter the hourly rate: 70\n",
      "Enter the total consulting time in minutes: 75\n",
      "Enter the income amount: 1000\n",
      "Your total consulting bill is: 21.0\n"
     ]
    }
   ],
   "source": [
    "def computeBill(hourlyRate, time, income):\n",
    "    if income <= 25000:\n",
    "        if time <= 30:\n",
    "            bill = 0\n",
    "        else:\n",
    "            bill = (time-30)*hourlyRate*.4/60\n",
    "    else:\n",
    "        if time <= 20:\n",
    "            bill = 0\n",
    "        else:\n",
    "            bill = (time-20)*hourlyRate*.7/60\n",
    "    return bill\n",
    "hourlyRate = eval(input(\"Enter the hourly rate: \"))\n",
    "time = eval(input(\"Enter the total consulting time in minutes: \"))\n",
    "income = eval(input(\"Enter the income amount: \"))\n",
    "\n",
    "bill = computeBill(hourlyRate, time, income)\n",
    "print(\"Your total consulting bill is:\", bill)"
   ]
  },
  {
   "cell_type": "markdown",
   "metadata": {},
   "source": [
    "## Question - 11"
   ]
  },
  {
   "cell_type": "code",
   "execution_count": 3,
   "metadata": {},
   "outputs": [
    {
     "name": "stdout",
     "output_type": "stream",
     "text": [
      "The total amount paid for the stock:  26250\n",
      "The total amount received from selling the stock:  23362.5\n",
      "The total amount of money she lost:  2887.5\n"
     ]
    }
   ],
   "source": [
    "shares = 750\n",
    "buying_price = 35\n",
    "selling_price = 31.15\n",
    "total_paid = shares*buying_price\n",
    "total_received = shares*selling_price\n",
    "\n",
    "print(\"The total amount paid for the stock: \", total_paid)\n",
    "print(\"The total amount received from selling the stock: \", total_received)\n",
    "print(\"The total amount of money she lost: \", total_paid-total_received)"
   ]
  },
  {
   "cell_type": "markdown",
   "metadata": {},
   "source": [
    "## Question - 12"
   ]
  },
  {
   "cell_type": "code",
   "execution_count": 1,
   "metadata": {},
   "outputs": [
    {
     "data": {
      "text/plain": [
       "\"Probably it's impossible to solve this problem without global variable following the general process.\\nIt can be easily solved without global varial, if we go with class-object. But this topic was not taught I guess\""
      ]
     },
     "execution_count": 1,
     "metadata": {},
     "output_type": "execute_result"
    }
   ],
   "source": [
    "\"\"\"Probably it's impossible to solve this problem without global variable following the general process.\n",
    "It can be easily solved without global varial, if we go with class-object. But this topic was not taught I guess\"\"\""
   ]
  },
  {
   "cell_type": "markdown",
   "metadata": {},
   "source": [
    "## Question - 13"
   ]
  },
  {
   "cell_type": "code",
   "execution_count": 7,
   "metadata": {},
   "outputs": [
    {
     "name": "stdout",
     "output_type": "stream",
     "text": [
      "The cup size you want (small, medium, large): small\n",
      "The number of cups you want: 4\n",
      "4 : 7.0\n",
      "8\n"
     ]
    }
   ],
   "source": [
    "S_CUP = 9\n",
    "M_CUP = 12\n",
    "L_CUP = 15\n",
    "\n",
    "S_PRICE = 1.75\n",
    "M_PRICE = 1.90\n",
    "L_PRICE = 2.00\n",
    "\n",
    "s_size_total_sold = 4\n",
    "m_size_total_sold = 0\n",
    "l_size_total_sold = 0\n",
    "\n",
    "total_sold_cups = 0\n",
    "total_money_made = 0\n",
    "\n",
    "#def use_program():\n",
    "    \n",
    "def sell_coffee():\n",
    "    small = \"small\"\n",
    "    medium = \"medium\"\n",
    "    large = \"large\"\n",
    "    size = eval(input(\"The cup size you want (small, medium, large): \"))\n",
    "    cups = int(input(\"The number of cups you want: \"))\n",
    "    if size == \"small\":\n",
    "        price = cups * S_PRICE\n",
    "    elif size == \"medium\":\n",
    "        price = cups * M_PRICE\n",
    "    elif size == \"large\":\n",
    "        price = cups * L_PRICE\n",
    "    else:\n",
    "        print(\"Sorry, sir. We don't have this cup size. Try another\")\n",
    "    print(cups, \":\", price)\n",
    "    \n",
    "    each_size_total_sold(size, cups)\n",
    "def each_size_total_sold(size, cups):\n",
    "    global s_size_total_sold\n",
    "    global m_size_total_sold\n",
    "    global l_size_total_sold\n",
    "    if size == \"small\":\n",
    "        s_size_total_sold = s_size_total_sold + cups\n",
    "    elif size == \"medium\":\n",
    "        m_size_total_sold = m_size_total_sold + cups\n",
    "    elif size == \"large\":\n",
    "        l_size_total_sold = l_size_total_sold + cups\n",
    "    print(s_size_total_sold)\n",
    "sell_coffee()"
   ]
  },
  {
   "cell_type": "markdown",
   "metadata": {},
   "source": [
    "## Question - 14"
   ]
  },
  {
   "cell_type": "code",
   "execution_count": 7,
   "metadata": {},
   "outputs": [
    {
     "name": "stdout",
     "output_type": "stream",
     "text": [
      "The cup size you want (small, medium, large): small\n",
      "The number of cups you want: 4\n"
     ]
    },
    {
     "data": {
      "text/plain": [
       "7.0"
      ]
     },
     "execution_count": 7,
     "metadata": {},
     "output_type": "execute_result"
    }
   ],
   "source": [
    "def sell_coffee():\n",
    "    small = \"small\"\n",
    "    medium = \"medium\"\n",
    "    large = \"large\"\n",
    "    size = eval(input(\"The cup size you want (small, medium, large): \"))\n",
    "    cups = int(input(\"The number of cups you want: \"))\n",
    "    if size == \"small\":\n",
    "        price = cups * S_PRICE\n",
    "    elif size == \"medium\":\n",
    "        price = cups * M_PRICE\n",
    "    elif size == \"large\":\n",
    "        price = cups * L_PRICE\n",
    "    else:\n",
    "        print(\"Sorry, sir. We don't have this cup size. Try another\")\n",
    "    return price\n",
    "sell_coffee()"
   ]
  },
  {
   "cell_type": "markdown",
   "metadata": {},
   "source": [
    "## Question 5 - A"
   ]
  },
  {
   "cell_type": "code",
   "execution_count": 18,
   "metadata": {},
   "outputs": [],
   "source": [
    "import numpy as np\n",
    "x = np.array([[1, 2, 3, 4],\n",
    "            [4, 5, 6, 5],\n",
    "            [7, 8, 9, 6],\n",
    "            [3, 4, 5, 7]])"
   ]
  },
  {
   "cell_type": "code",
   "execution_count": 19,
   "metadata": {},
   "outputs": [
    {
     "data": {
      "text/plain": [
       "array([[1, 2],\n",
       "       [4, 5],\n",
       "       [7, 8],\n",
       "       [3, 4]])"
      ]
     },
     "execution_count": 19,
     "metadata": {},
     "output_type": "execute_result"
    }
   ],
   "source": [
    "x[:,:2]"
   ]
  },
  {
   "cell_type": "code",
   "execution_count": 20,
   "metadata": {},
   "outputs": [
    {
     "data": {
      "text/plain": [
       "array([4, 5])"
      ]
     },
     "execution_count": 20,
     "metadata": {},
     "output_type": "execute_result"
    }
   ],
   "source": [
    "x[1,:2]"
   ]
  },
  {
   "cell_type": "code",
   "execution_count": 21,
   "metadata": {},
   "outputs": [
    {
     "data": {
      "text/plain": [
       "array([3, 4, 5, 7])"
      ]
     },
     "execution_count": 21,
     "metadata": {},
     "output_type": "execute_result"
    }
   ],
   "source": [
    "x[3,:]"
   ]
  },
  {
   "cell_type": "code",
   "execution_count": 22,
   "metadata": {},
   "outputs": [
    {
     "data": {
      "text/plain": [
       "array([[3, 4],\n",
       "       [6, 5],\n",
       "       [9, 6]])"
      ]
     },
     "execution_count": 22,
     "metadata": {},
     "output_type": "execute_result"
    }
   ],
   "source": [
    "x[:3,2:]"
   ]
  },
  {
   "cell_type": "code",
   "execution_count": 1,
   "metadata": {},
   "outputs": [
    {
     "data": {
      "text/html": [
       "<div>\n",
       "<style scoped>\n",
       "    .dataframe tbody tr th:only-of-type {\n",
       "        vertical-align: middle;\n",
       "    }\n",
       "\n",
       "    .dataframe tbody tr th {\n",
       "        vertical-align: top;\n",
       "    }\n",
       "\n",
       "    .dataframe thead th {\n",
       "        text-align: right;\n",
       "    }\n",
       "</style>\n",
       "<table border=\"1\" class=\"dataframe\">\n",
       "  <thead>\n",
       "    <tr style=\"text-align: right;\">\n",
       "      <th></th>\n",
       "      <th>Age</th>\n",
       "      <th>Name</th>\n",
       "      <th>Rating</th>\n",
       "    </tr>\n",
       "  </thead>\n",
       "  <tbody>\n",
       "    <tr>\n",
       "      <th>0</th>\n",
       "      <td>25</td>\n",
       "      <td>tom</td>\n",
       "      <td>4.23</td>\n",
       "    </tr>\n",
       "    <tr>\n",
       "      <th>1</th>\n",
       "      <td>26</td>\n",
       "      <td>James</td>\n",
       "      <td>3.24</td>\n",
       "    </tr>\n",
       "    <tr>\n",
       "      <th>2</th>\n",
       "      <td>25</td>\n",
       "      <td>James</td>\n",
       "      <td>3.98</td>\n",
       "    </tr>\n",
       "    <tr>\n",
       "      <th>3</th>\n",
       "      <td>25</td>\n",
       "      <td>Ricky</td>\n",
       "      <td>3.98</td>\n",
       "    </tr>\n",
       "  </tbody>\n",
       "</table>\n",
       "</div>"
      ],
      "text/plain": [
       "   Age   Name  Rating\n",
       "0   25    tom    4.23\n",
       "1   26  James    3.24\n",
       "2   25  James    3.98\n",
       "3   25  Ricky    3.98"
      ]
     },
     "execution_count": 1,
     "metadata": {},
     "output_type": "execute_result"
    }
   ],
   "source": [
    "import pandas as pd\n",
    "data =[{'Age': 25, 'Name': 'tom', 'Rating': 4.23}, \n",
    "       {'Age':26, 'Name': 'James', 'Rating': 3.24 },\n",
    "       {'Age':25, 'Name': 'James', 'Rating': 3.98},\n",
    "       {'Age': 25, 'Name': 'Ricky', \"Rating\": 3.98}\n",
    "      ]\n",
    "df = pd.DataFrame(data)\n",
    "df"
   ]
  },
  {
   "cell_type": "code",
   "execution_count": 2,
   "metadata": {},
   "outputs": [
    {
     "data": {
      "text/html": [
       "<div>\n",
       "<style scoped>\n",
       "    .dataframe tbody tr th:only-of-type {\n",
       "        vertical-align: middle;\n",
       "    }\n",
       "\n",
       "    .dataframe tbody tr th {\n",
       "        vertical-align: top;\n",
       "    }\n",
       "\n",
       "    .dataframe thead th {\n",
       "        text-align: right;\n",
       "    }\n",
       "</style>\n",
       "<table border=\"1\" class=\"dataframe\">\n",
       "  <thead>\n",
       "    <tr style=\"text-align: right;\">\n",
       "      <th></th>\n",
       "      <th>Age</th>\n",
       "      <th>Rating</th>\n",
       "    </tr>\n",
       "  </thead>\n",
       "  <tbody>\n",
       "    <tr>\n",
       "      <th>count</th>\n",
       "      <td>4.00</td>\n",
       "      <td>4.000000</td>\n",
       "    </tr>\n",
       "    <tr>\n",
       "      <th>mean</th>\n",
       "      <td>25.25</td>\n",
       "      <td>3.857500</td>\n",
       "    </tr>\n",
       "    <tr>\n",
       "      <th>std</th>\n",
       "      <td>0.50</td>\n",
       "      <td>0.428204</td>\n",
       "    </tr>\n",
       "    <tr>\n",
       "      <th>min</th>\n",
       "      <td>25.00</td>\n",
       "      <td>3.240000</td>\n",
       "    </tr>\n",
       "    <tr>\n",
       "      <th>25%</th>\n",
       "      <td>25.00</td>\n",
       "      <td>3.795000</td>\n",
       "    </tr>\n",
       "    <tr>\n",
       "      <th>50%</th>\n",
       "      <td>25.00</td>\n",
       "      <td>3.980000</td>\n",
       "    </tr>\n",
       "    <tr>\n",
       "      <th>75%</th>\n",
       "      <td>25.25</td>\n",
       "      <td>4.042500</td>\n",
       "    </tr>\n",
       "    <tr>\n",
       "      <th>max</th>\n",
       "      <td>26.00</td>\n",
       "      <td>4.230000</td>\n",
       "    </tr>\n",
       "  </tbody>\n",
       "</table>\n",
       "</div>"
      ],
      "text/plain": [
       "         Age    Rating\n",
       "count   4.00  4.000000\n",
       "mean   25.25  3.857500\n",
       "std     0.50  0.428204\n",
       "min    25.00  3.240000\n",
       "25%    25.00  3.795000\n",
       "50%    25.00  3.980000\n",
       "75%    25.25  4.042500\n",
       "max    26.00  4.230000"
      ]
     },
     "execution_count": 2,
     "metadata": {},
     "output_type": "execute_result"
    }
   ],
   "source": [
    "df.describe()"
   ]
  },
  {
   "cell_type": "code",
   "execution_count": null,
   "metadata": {},
   "outputs": [],
   "source": []
  },
  {
   "cell_type": "code",
   "execution_count": 32,
   "metadata": {},
   "outputs": [
    {
     "name": "stdout",
     "output_type": "stream",
     "text": [
      "'Name','Name','Name','Name','Name','Name','Name','Name','Name','Name','Name','Name',\n"
     ]
    }
   ],
   "source": [
    "print(\"'Name',\"*12)"
   ]
  },
  {
   "cell_type": "code",
   "execution_count": 41,
   "metadata": {},
   "outputs": [],
   "source": [
    "#name02 = [\"Tom', \"James\", 'Ricky', 'Vin', 'Steve', 'Smith', 'Jack', 'Lee', 'David', 'Gasper', 'Betina', 'Andres']\n",
    "#age = [25,26, 25, 23, 30, 29, 23, 34, 40, 30, 51, 46]\n",
    "#rating = [4.23, 3.24, 3.98, 2.56, 3.20, 4.60, 3.80, 3.78, 2.98, 4.80, 4.10, 3.65]\n",
    "\n",
    "#name01 = ['Name','Name','Name','Name','Name','Name','Name','Name','Name','Name','Name','Name']\n",
    "name = dict(zip(['Name','Name','Name','Name','Name','Name','Name','Name','Name','Name','Name','Name'],['Tom', 'James', 'Ricky', 'Vin', 'Steve', 'Smith', 'Jack', 'Lee', 'David', 'Gasper', 'Betina', 'Andres']))"
   ]
  },
  {
   "cell_type": "code",
   "execution_count": 42,
   "metadata": {},
   "outputs": [
    {
     "data": {
      "text/plain": [
       "{'Name': 'Andres'}"
      ]
     },
     "execution_count": 42,
     "metadata": {},
     "output_type": "execute_result"
    }
   ],
   "source": [
    "name"
   ]
  },
  {
   "cell_type": "code",
   "execution_count": 40,
   "metadata": {},
   "outputs": [
    {
     "name": "stdout",
     "output_type": "stream",
     "text": [
      "{'Name': 'Andres'}\n"
     ]
    }
   ],
   "source": [
    "print(name)"
   ]
  },
  {
   "cell_type": "code",
   "execution_count": 44,
   "metadata": {},
   "outputs": [],
   "source": [
    "name = dict(zip([1,2,3], ['a', 'b', 'c']))"
   ]
  },
  {
   "cell_type": "code",
   "execution_count": 45,
   "metadata": {},
   "outputs": [
    {
     "data": {
      "text/plain": [
       "{1: 'a', 2: 'b', 3: 'c'}"
      ]
     },
     "execution_count": 45,
     "metadata": {},
     "output_type": "execute_result"
    }
   ],
   "source": [
    "name"
   ]
  },
  {
   "cell_type": "code",
   "execution_count": null,
   "metadata": {},
   "outputs": [],
   "source": []
  }
 ],
 "metadata": {
  "kernelspec": {
   "display_name": "Python 3",
   "language": "python",
   "name": "python3"
  },
  "language_info": {
   "codemirror_mode": {
    "name": "ipython",
    "version": 3
   },
   "file_extension": ".py",
   "mimetype": "text/x-python",
   "name": "python",
   "nbconvert_exporter": "python",
   "pygments_lexer": "ipython3",
   "version": "3.7.4"
  }
 },
 "nbformat": 4,
 "nbformat_minor": 2
}
